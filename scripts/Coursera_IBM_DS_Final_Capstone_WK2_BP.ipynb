{
 "cells": [
  {
   "cell_type": "markdown",
   "metadata": {},
   "source": [
    "# Coursra IBM DS Final Capstone - Introduction / Business Problem\n",
    "# Author: Babu Konnayil\n",
    "\n",
    "Major traffic delays or traffic blockages are results of traffic accidents.\n",
    "The severe the accident, the more time to clear the traffic block.\n",
    "\n",
    "Can you imagine missing your son or daughter's graduation ceremony or being late to best friend's\n",
    "wedding or miss your most important business meeting just because traffic block due to accidents?\n",
    "\n",
    "Wouldn't it be nice to have a tool that can predict whether an accident will happen and its severity\n",
    "given the weather condition and road condition so that you can plan ahead and be careful to avoid \n",
    "accidents?\n",
    "\n",
    "Our target audiences are vehicle owners in Seattle.  Our Captson project and tool will help to \n",
    "predict traffic accidents and its severity given road condition and weather condition.\n",
    "\n",
    "\n"
   ]
  }
 ],
 "metadata": {
  "kernelspec": {
   "display_name": "Python 3",
   "language": "python",
   "name": "python3"
  },
  "language_info": {
   "codemirror_mode": {
    "name": "ipython",
    "version": 3
   },
   "file_extension": ".py",
   "mimetype": "text/x-python",
   "name": "python",
   "nbconvert_exporter": "python",
   "pygments_lexer": "ipython3",
   "version": "3.7.1"
  }
 },
 "nbformat": 4,
 "nbformat_minor": 4
}
